{
 "cells": [
  {
   "cell_type": "markdown",
   "metadata": {},
   "source": [
    "## 練習時間\n",
    "資料的操作有很多，接下來的馬拉松中我們會介紹常被使用到的操作，參加者不妨先自行想像一下，第一次看到資料，我們一般會想知道什麼訊息？\n",
    "\n",
    "#### Ex: 如何知道資料的 row 數以及 column 數、有什麼欄位、多少欄位、如何截取部分的資料等等\n",
    "\n",
    "有了對資料的好奇之後，我們又怎麼通過程式碼來達成我們的目的呢？\n",
    "\n",
    "#### 可參考該[基礎教材](https://bookdata.readthedocs.io/en/latest/base/01_pandas.html#DataFrame-%E5%85%A5%E9%97%A8)或自行 google"
   ]
  },
  {
   "cell_type": "markdown",
   "metadata": {},
   "source": [
    "# [作業目標]\n",
    "- 熟悉更多的 Python 資料操作"
   ]
  },
  {
   "cell_type": "markdown",
   "metadata": {},
   "source": [
    "# [作業重點]\n",
    "- 列出資料的大小 (In[4], Hint : shape)\n",
    "- 列出所有欄位 (In[5], 有多種寫法)\n",
    "- 擷取部分資料 (In[6], Hint : loc 或 iloc)"
   ]
  },
  {
   "cell_type": "code",
   "execution_count": 4,
   "metadata": {
    "collapsed": true
   },
   "outputs": [],
   "source": [
    "import os\n",
    "import numpy as np\n",
    "import pandas as pd"
   ]
  },
  {
   "cell_type": "code",
   "execution_count": 5,
   "metadata": {
    "collapsed": true
   },
   "outputs": [],
   "source": [
    "# 設定 data_path\n",
    "dir_data = './data/'"
   ]
  },
  {
   "cell_type": "code",
   "execution_count": 6,
   "metadata": {
    "collapsed": false
   },
   "outputs": [
    {
     "name": "stdout",
     "output_type": "stream",
     "text": [
      "Path of read in data: ./data/application_train.csv\n"
     ]
    }
   ],
   "source": [
    "f_app = os.path.join(dir_data, 'application_train.csv')\n",
    "print('Path of read in data: %s' % (f_app))\n",
    "app_train = pd.read_csv(f_app)"
   ]
  },
  {
   "cell_type": "markdown",
   "metadata": {},
   "source": [
    "### 如果沒有想法，可以先嘗試找出剛剛例子中提到的問題的答案\n",
    "#### 資料的 row 數以及 column 數"
   ]
  },
  {
   "cell_type": "code",
   "execution_count": 7,
   "metadata": {
    "collapsed": false
   },
   "outputs": [
    {
     "data": {
      "text/plain": [
       "(307511, 122)"
      ]
     },
     "execution_count": 7,
     "metadata": {},
     "output_type": "execute_result"
    }
   ],
   "source": [
    "app_train.shape"
   ]
  },
  {
   "cell_type": "markdown",
   "metadata": {},
   "source": [
    "#### 列出所有欄位"
   ]
  },
  {
   "cell_type": "code",
   "execution_count": 8,
   "metadata": {
    "collapsed": false
   },
   "outputs": [
    {
     "data": {
      "text/plain": [
       "SK_ID_CURR                      int64\n",
       "TARGET                          int64\n",
       "NAME_CONTRACT_TYPE             object\n",
       "CODE_GENDER                    object\n",
       "FLAG_OWN_CAR                   object\n",
       "FLAG_OWN_REALTY                object\n",
       "CNT_CHILDREN                    int64\n",
       "AMT_INCOME_TOTAL              float64\n",
       "AMT_CREDIT                    float64\n",
       "AMT_ANNUITY                   float64\n",
       "AMT_GOODS_PRICE               float64\n",
       "NAME_TYPE_SUITE                object\n",
       "NAME_INCOME_TYPE               object\n",
       "NAME_EDUCATION_TYPE            object\n",
       "NAME_FAMILY_STATUS             object\n",
       "NAME_HOUSING_TYPE              object\n",
       "REGION_POPULATION_RELATIVE    float64\n",
       "DAYS_BIRTH                      int64\n",
       "DAYS_EMPLOYED                   int64\n",
       "DAYS_REGISTRATION             float64\n",
       "DAYS_ID_PUBLISH                 int64\n",
       "OWN_CAR_AGE                   float64\n",
       "FLAG_MOBIL                      int64\n",
       "FLAG_EMP_PHONE                  int64\n",
       "FLAG_WORK_PHONE                 int64\n",
       "FLAG_CONT_MOBILE                int64\n",
       "FLAG_PHONE                      int64\n",
       "FLAG_EMAIL                      int64\n",
       "OCCUPATION_TYPE                object\n",
       "CNT_FAM_MEMBERS               float64\n",
       "                               ...   \n",
       "DEF_30_CNT_SOCIAL_CIRCLE      float64\n",
       "OBS_60_CNT_SOCIAL_CIRCLE      float64\n",
       "DEF_60_CNT_SOCIAL_CIRCLE      float64\n",
       "DAYS_LAST_PHONE_CHANGE        float64\n",
       "FLAG_DOCUMENT_2                 int64\n",
       "FLAG_DOCUMENT_3                 int64\n",
       "FLAG_DOCUMENT_4                 int64\n",
       "FLAG_DOCUMENT_5                 int64\n",
       "FLAG_DOCUMENT_6                 int64\n",
       "FLAG_DOCUMENT_7                 int64\n",
       "FLAG_DOCUMENT_8                 int64\n",
       "FLAG_DOCUMENT_9                 int64\n",
       "FLAG_DOCUMENT_10                int64\n",
       "FLAG_DOCUMENT_11                int64\n",
       "FLAG_DOCUMENT_12                int64\n",
       "FLAG_DOCUMENT_13                int64\n",
       "FLAG_DOCUMENT_14                int64\n",
       "FLAG_DOCUMENT_15                int64\n",
       "FLAG_DOCUMENT_16                int64\n",
       "FLAG_DOCUMENT_17                int64\n",
       "FLAG_DOCUMENT_18                int64\n",
       "FLAG_DOCUMENT_19                int64\n",
       "FLAG_DOCUMENT_20                int64\n",
       "FLAG_DOCUMENT_21                int64\n",
       "AMT_REQ_CREDIT_BUREAU_HOUR    float64\n",
       "AMT_REQ_CREDIT_BUREAU_DAY     float64\n",
       "AMT_REQ_CREDIT_BUREAU_WEEK    float64\n",
       "AMT_REQ_CREDIT_BUREAU_MON     float64\n",
       "AMT_REQ_CREDIT_BUREAU_QRT     float64\n",
       "AMT_REQ_CREDIT_BUREAU_YEAR    float64\n",
       "dtype: object"
      ]
     },
     "execution_count": 8,
     "metadata": {},
     "output_type": "execute_result"
    }
   ],
   "source": [
    "app_train.dtypes"
   ]
  },
  {
   "cell_type": "markdown",
   "metadata": {},
   "source": [
    "#### 截取部分資料"
   ]
  },
  {
   "cell_type": "code",
   "execution_count": 13,
   "metadata": {
    "collapsed": false
   },
   "outputs": [
    {
     "data": {
      "text/plain": [
       "SK_ID_CURR                                           100008\n",
       "TARGET                                                    0\n",
       "NAME_CONTRACT_TYPE                               Cash loans\n",
       "CODE_GENDER                                               M\n",
       "FLAG_OWN_CAR                                              N\n",
       "FLAG_OWN_REALTY                                           Y\n",
       "CNT_CHILDREN                                              0\n",
       "AMT_INCOME_TOTAL                                      99000\n",
       "AMT_CREDIT                                           490496\n",
       "AMT_ANNUITY                                         27517.5\n",
       "AMT_GOODS_PRICE                                      454500\n",
       "NAME_TYPE_SUITE                             Spouse, partner\n",
       "NAME_INCOME_TYPE                              State servant\n",
       "NAME_EDUCATION_TYPE           Secondary / secondary special\n",
       "NAME_FAMILY_STATUS                                  Married\n",
       "NAME_HOUSING_TYPE                         House / apartment\n",
       "REGION_POPULATION_RELATIVE                         0.035792\n",
       "DAYS_BIRTH                                           -16941\n",
       "DAYS_EMPLOYED                                         -1588\n",
       "DAYS_REGISTRATION                                     -4970\n",
       "DAYS_ID_PUBLISH                                        -477\n",
       "OWN_CAR_AGE                                             NaN\n",
       "FLAG_MOBIL                                                1\n",
       "FLAG_EMP_PHONE                                            1\n",
       "FLAG_WORK_PHONE                                           1\n",
       "FLAG_CONT_MOBILE                                          1\n",
       "FLAG_PHONE                                                1\n",
       "FLAG_EMAIL                                                0\n",
       "OCCUPATION_TYPE                                    Laborers\n",
       "CNT_FAM_MEMBERS                                           2\n",
       "                                          ...              \n",
       "DEF_30_CNT_SOCIAL_CIRCLE                                  0\n",
       "OBS_60_CNT_SOCIAL_CIRCLE                                  0\n",
       "DEF_60_CNT_SOCIAL_CIRCLE                                  0\n",
       "DAYS_LAST_PHONE_CHANGE                                -2536\n",
       "FLAG_DOCUMENT_2                                           0\n",
       "FLAG_DOCUMENT_3                                           1\n",
       "FLAG_DOCUMENT_4                                           0\n",
       "FLAG_DOCUMENT_5                                           0\n",
       "FLAG_DOCUMENT_6                                           0\n",
       "FLAG_DOCUMENT_7                                           0\n",
       "FLAG_DOCUMENT_8                                           0\n",
       "FLAG_DOCUMENT_9                                           0\n",
       "FLAG_DOCUMENT_10                                          0\n",
       "FLAG_DOCUMENT_11                                          0\n",
       "FLAG_DOCUMENT_12                                          0\n",
       "FLAG_DOCUMENT_13                                          0\n",
       "FLAG_DOCUMENT_14                                          0\n",
       "FLAG_DOCUMENT_15                                          0\n",
       "FLAG_DOCUMENT_16                                          0\n",
       "FLAG_DOCUMENT_17                                          0\n",
       "FLAG_DOCUMENT_18                                          0\n",
       "FLAG_DOCUMENT_19                                          0\n",
       "FLAG_DOCUMENT_20                                          0\n",
       "FLAG_DOCUMENT_21                                          0\n",
       "AMT_REQ_CREDIT_BUREAU_HOUR                                0\n",
       "AMT_REQ_CREDIT_BUREAU_DAY                                 0\n",
       "AMT_REQ_CREDIT_BUREAU_WEEK                                0\n",
       "AMT_REQ_CREDIT_BUREAU_MON                                 0\n",
       "AMT_REQ_CREDIT_BUREAU_QRT                                 1\n",
       "AMT_REQ_CREDIT_BUREAU_YEAR                                1\n",
       "Name: 5, dtype: object"
      ]
     },
     "execution_count": 13,
     "metadata": {},
     "output_type": "execute_result"
    }
   ],
   "source": [
    "app_train.iloc[5]"
   ]
  },
  {
   "cell_type": "code",
   "execution_count": 15,
   "metadata": {
    "collapsed": false
   },
   "outputs": [
    {
     "data": {
      "text/plain": [
       "SK_ID_CURR                               100003\n",
       "TARGET                                        0\n",
       "NAME_CONTRACT_TYPE                   Cash loans\n",
       "CODE_GENDER                                   F\n",
       "FLAG_OWN_CAR                                  N\n",
       "FLAG_OWN_REALTY                               N\n",
       "CNT_CHILDREN                                  0\n",
       "AMT_INCOME_TOTAL                         270000\n",
       "AMT_CREDIT                           1.2935e+06\n",
       "AMT_ANNUITY                             35698.5\n",
       "AMT_GOODS_PRICE                      1.1295e+06\n",
       "NAME_TYPE_SUITE                          Family\n",
       "NAME_INCOME_TYPE                  State servant\n",
       "NAME_EDUCATION_TYPE            Higher education\n",
       "NAME_FAMILY_STATUS                      Married\n",
       "NAME_HOUSING_TYPE             House / apartment\n",
       "REGION_POPULATION_RELATIVE             0.003541\n",
       "DAYS_BIRTH                               -16765\n",
       "DAYS_EMPLOYED                             -1188\n",
       "DAYS_REGISTRATION                         -1186\n",
       "DAYS_ID_PUBLISH                            -291\n",
       "OWN_CAR_AGE                                 NaN\n",
       "FLAG_MOBIL                                    1\n",
       "FLAG_EMP_PHONE                                1\n",
       "FLAG_WORK_PHONE                               0\n",
       "FLAG_CONT_MOBILE                              1\n",
       "FLAG_PHONE                                    1\n",
       "FLAG_EMAIL                                    0\n",
       "OCCUPATION_TYPE                      Core staff\n",
       "CNT_FAM_MEMBERS                               2\n",
       "                                    ...        \n",
       "DEF_30_CNT_SOCIAL_CIRCLE                      0\n",
       "OBS_60_CNT_SOCIAL_CIRCLE                      1\n",
       "DEF_60_CNT_SOCIAL_CIRCLE                      0\n",
       "DAYS_LAST_PHONE_CHANGE                     -828\n",
       "FLAG_DOCUMENT_2                               0\n",
       "FLAG_DOCUMENT_3                               1\n",
       "FLAG_DOCUMENT_4                               0\n",
       "FLAG_DOCUMENT_5                               0\n",
       "FLAG_DOCUMENT_6                               0\n",
       "FLAG_DOCUMENT_7                               0\n",
       "FLAG_DOCUMENT_8                               0\n",
       "FLAG_DOCUMENT_9                               0\n",
       "FLAG_DOCUMENT_10                              0\n",
       "FLAG_DOCUMENT_11                              0\n",
       "FLAG_DOCUMENT_12                              0\n",
       "FLAG_DOCUMENT_13                              0\n",
       "FLAG_DOCUMENT_14                              0\n",
       "FLAG_DOCUMENT_15                              0\n",
       "FLAG_DOCUMENT_16                              0\n",
       "FLAG_DOCUMENT_17                              0\n",
       "FLAG_DOCUMENT_18                              0\n",
       "FLAG_DOCUMENT_19                              0\n",
       "FLAG_DOCUMENT_20                              0\n",
       "FLAG_DOCUMENT_21                              0\n",
       "AMT_REQ_CREDIT_BUREAU_HOUR                    0\n",
       "AMT_REQ_CREDIT_BUREAU_DAY                     0\n",
       "AMT_REQ_CREDIT_BUREAU_WEEK                    0\n",
       "AMT_REQ_CREDIT_BUREAU_MON                     0\n",
       "AMT_REQ_CREDIT_BUREAU_QRT                     0\n",
       "AMT_REQ_CREDIT_BUREAU_YEAR                    0\n",
       "Name: 1, dtype: object"
      ]
     },
     "execution_count": 15,
     "metadata": {},
     "output_type": "execute_result"
    }
   ],
   "source": [
    "app_train.loc[1]"
   ]
  },
  {
   "cell_type": "markdown",
   "metadata": {},
   "source": [
    "#### 還有各種數之不盡的資料操作，重點還是取決於實務中遇到的狀況和你想問的問題，在馬拉松中我們也會陸續提到更多例子"
   ]
  },
  {
   "cell_type": "code",
   "execution_count": null,
   "metadata": {
    "collapsed": true
   },
   "outputs": [],
   "source": []
  }
 ],
 "metadata": {
  "kernelspec": {
   "display_name": "Python 3",
   "language": "python",
   "name": "python3"
  },
  "language_info": {
   "codemirror_mode": {
    "name": "ipython",
    "version": 3
   },
   "file_extension": ".py",
   "mimetype": "text/x-python",
   "name": "python",
   "nbconvert_exporter": "python",
   "pygments_lexer": "ipython3",
   "version": "3.6.0"
  }
 },
 "nbformat": 4,
 "nbformat_minor": 2
}
