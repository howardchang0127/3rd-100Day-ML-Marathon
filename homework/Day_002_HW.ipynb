{
 "cells": [
  {
   "cell_type": "markdown",
   "metadata": {},
   "source": [
    "# [作業2]\n",
    "\n",
    "請上 Kaggle, 在 Competitions 或 Dataset 中找一組競賽或資料並寫下：\n",
    "\n",
    "1. 你選的這組資料為何重要\n",
    "\n",
    "2. 資料從何而來 (tips: 譬如提供者是誰、以什麼方式蒐集)\n",
    "\n",
    "3. 蒐集而來的資料型態為何\n",
    "\n",
    "4. 這組資料想解決的問題如何評估\n"
   ]
  },
  {
   "cell_type": "code",
   "execution_count": null,
   "metadata": {
    "collapsed": true
   },
   "outputs": [],
   "source": [
    "https://www.kaggle.com/dgomonov/new-york-city-airbnb-open-data/version/3?\n",
    "\n",
    "1. 你選的這組資料為何重要\n",
    "可用以了解紐約市的Airbnb房源與指標性的關聯，進而預測相關的人流、喜好、及房價預測\n",
    "\n",
    "2.資料從何而來\n",
    "為紐約Airbnb提供的開放數據(Ooen Data)- 美國紐約州紐約市的Airbnb房源和指標（2019）\n",
    "\n",
    "\n",
    "3. 蒐集而來的資料型態為何\n",
    "3.1：CSV提供,結構化資料\n",
    "3.2：“AB_NYC_2019” - 紐約市房源的摘要信息和指標。它有利於探索，可視化和預測。\n",
    "\n",
    "\n",
    "4. 這組資料想解決的問題如何評估\n",
    "4.1：了解不同的Host和Area？可透過各個指標間的差異來了解Host及Are的差異及關連。\n",
    "4.2：我們可以從預測中學到什麼？（例如：地點，價格，評論等）透過資料來預測不同Area間的房價。\n",
    "4.3：哪個Host最繁忙？為什麼？用Airbnb所提供的指標數據進行分析，並找出相關原因。\n",
    "4.4：不同地區之間的流量是否存在明顯差異，原因可能是什麼？以指標數據來分析，是否是因為區域,評價,價格...等導致不同區域間的差異。\n",
    "\n"
   ]
  }
 ],
 "metadata": {
  "anaconda-cloud": {},
  "kernelspec": {
   "display_name": "Python 3",
   "language": "python",
   "name": "python3"
  },
  "language_info": {
   "codemirror_mode": {
    "name": "ipython",
    "version": 3
   },
   "file_extension": ".py",
   "mimetype": "text/x-python",
   "name": "python",
   "nbconvert_exporter": "python",
   "pygments_lexer": "ipython3",
   "version": "3.6.0"
  }
 },
 "nbformat": 4,
 "nbformat_minor": 1
}
